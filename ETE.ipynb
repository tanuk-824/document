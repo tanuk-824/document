{
  "nbformat": 4,
  "nbformat_minor": 0,
  "metadata": {
    "colab": {
      "provenance": []
    },
    "kernelspec": {
      "name": "python3",
      "display_name": "Python 3"
    },
    "language_info": {
      "name": "python"
    }
  },
  "cells": [
    {
      "cell_type": "code",
      "execution_count": 4,
      "metadata": {
        "id": "56ZGFEyTznfw"
      },
      "outputs": [],
      "source": [
        "import pandas as pd\n",
        "\n",
        "# Sentiment140: columns = [target, ids, date, flag, user, text]\n",
        "# Added on_bad_lines='skip' to handle rows with parsing errors\n",
        "# Changed engine to 'python' for potentially better handling of complex errors\n",
        "df_twitter = pd.read_csv('/content/TwitterDataSet.csv',\n",
        "                         encoding='latin-1', header=None, on_bad_lines='skip', engine='python')\n",
        "df_twitter.columns = ['target', 'ids', 'date', 'flag', 'user', 'text']\n",
        "\n",
        "# Map sentiment labels: 0 = negative, 4 = positive\n",
        "df_twitter = df_twitter[df_twitter['target'].isin([0,4])]\n",
        "df_twitter['sentiment'] = df_twitter['target'].map({0: 0, 4: 1})\n",
        "\n",
        "# Use a subset for demonstration (PSO is slow on full data)\n",
        "df_twitter = df_twitter.sample(10000, random_state=42)"
      ]
    },
    {
      "cell_type": "code",
      "source": [
        "df_imdb = pd.read_csv('/content/IMDBDataset.csv')\n",
        "df_imdb['sentiment'] = df_imdb['sentiment'].map({'negative': 0, 'positive': 1})\n",
        "\n",
        "# Use a subset for demonstration\n",
        "df_imdb = df_imdb.sample(10000, random_state=42)\n"
      ],
      "metadata": {
        "id": "Vg7dWS6K0ctW"
      },
      "execution_count": 6,
      "outputs": []
    },
    {
      "cell_type": "code",
      "source": [
        "from sklearn.feature_extraction.text import TfidfVectorizer\n",
        "import re\n",
        "\n",
        "def clean_text(text):\n",
        "    text = re.sub(r\"http\\S+|www\\S+|https\\S+\", '', text, flags=re.MULTILINE)\n",
        "    text = re.sub(r'\\@w+|\\#','', text)\n",
        "    text = re.sub(r\"[^A-Za-z0-9\\s]\", \"\", text)\n",
        "    return text.lower()\n",
        "\n",
        "# Apply cleaning\n",
        "df_twitter['clean_text'] = df_twitter['text'].apply(clean_text)\n",
        "df_imdb['clean_text'] = df_imdb['review'].apply(clean_text)\n",
        "\n",
        "# TF-IDF vectorization\n",
        "vectorizer = TfidfVectorizer(max_features=1000, stop_words='english')\n",
        "X_twitter = vectorizer.fit_transform(df_twitter['clean_text']).toarray()\n",
        "y_twitter = df_twitter['sentiment'].values\n",
        "\n",
        "X_imdb = vectorizer.fit_transform(df_imdb['clean_text']).toarray()\n",
        "y_imdb = df_imdb['sentiment'].values\n"
      ],
      "metadata": {
        "id": "jp5MHyKP0m41"
      },
      "execution_count": 7,
      "outputs": []
    },
    {
      "cell_type": "code",
      "source": [
        "from sklearn.model_selection import train_test_split\n",
        "from sklearn.linear_model import LogisticRegression\n",
        "from sklearn.metrics import classification_report, accuracy_score\n",
        "\n",
        "# Twitter\n",
        "X_train, X_test, y_train, y_test = train_test_split(X_twitter, y_twitter, test_size=0.2, random_state=42)\n",
        "model = LogisticRegression(max_iter=200)\n",
        "model.fit(X_train, y_train)\n",
        "y_pred = model.predict(X_test)\n",
        "print(\"Twitter Sentiment140 Results:\")\n",
        "print(classification_report(y_test, y_pred))\n",
        "print(\"Accuracy:\", accuracy_score(y_test, y_pred))\n",
        "\n",
        "# IMDB\n",
        "X_train, X_test, y_train, y_test = train_test_split(X_imdb, y_imdb, test_size=0.2, random_state=42)\n",
        "model = LogisticRegression(max_iter=200)\n",
        "model.fit(X_train, y_train)\n",
        "y_pred = model.predict(X_test)\n",
        "print(\"IMDB Results:\")\n",
        "print(classification_report(y_test, y_pred))\n",
        "print(\"Accuracy:\", accuracy_score(y_test, y_pred))\n"
      ],
      "metadata": {
        "colab": {
          "base_uri": "https://localhost:8080/"
        },
        "id": "yWJ3w4WE0s9I",
        "outputId": "46644e18-95b5-42f5-fc75-360f25a480fb"
      },
      "execution_count": 8,
      "outputs": [
        {
          "output_type": "stream",
          "name": "stdout",
          "text": [
            "Twitter Sentiment140 Results:\n",
            "              precision    recall  f1-score   support\n",
            "\n",
            "           0       0.94      1.00      0.97      1877\n",
            "           1       0.75      0.02      0.05       123\n",
            "\n",
            "    accuracy                           0.94      2000\n",
            "   macro avg       0.84      0.51      0.51      2000\n",
            "weighted avg       0.93      0.94      0.91      2000\n",
            "\n",
            "Accuracy: 0.9395\n",
            "IMDB Results:\n",
            "              precision    recall  f1-score   support\n",
            "\n",
            "           0       0.87      0.82      0.85       999\n",
            "           1       0.83      0.88      0.86      1001\n",
            "\n",
            "    accuracy                           0.85      2000\n",
            "   macro avg       0.85      0.85      0.85      2000\n",
            "weighted avg       0.85      0.85      0.85      2000\n",
            "\n",
            "Accuracy: 0.852\n"
          ]
        }
      ]
    },
    {
      "cell_type": "code",
      "source": [
        "from pyswarm import pso\n",
        "import numpy as np\n",
        "\n",
        "# Define a simple fitness function for PSO\n",
        "def fitness_func(selected_features):\n",
        "    selected = np.where(selected_features > 0.5)[0]\n",
        "    if len(selected) == 0:\n",
        "        return 1  # Penalize empty feature set\n",
        "    X_sel = X_train[:, selected]\n",
        "    X_val = X_test[:, selected]\n",
        "    model = LogisticRegression(max_iter=200)\n",
        "    model.fit(X_sel, y_train)\n",
        "    y_pred = model.predict(X_val)\n",
        "    return 1 - accuracy_score(y_test, y_pred)  # Minimize error\n",
        "\n",
        "dim = X_train.shape[1]\n",
        "lb = [0]*dim\n",
        "ub = [1]*dim\n",
        "\n",
        "# Run PSO (use small number of particles/iterations for demo)\n",
        "best_position, best_error = pso(fitness_func, lb, ub, swarmsize=10, maxiter=5)\n",
        "\n",
        "selected_indices = np.where(best_position > 0.5)[0]\n",
        "print(\"Number of selected features:\", len(selected_indices))\n",
        "\n",
        "# Retrain model with selected features\n",
        "X_train_sel = X_train[:, selected_indices]\n",
        "X_test_sel = X_test[:, selected_indices]\n",
        "model = LogisticRegression(max_iter=200)\n",
        "model.fit(X_train_sel, y_train)\n",
        "y_pred = model.predict(X_test_sel)\n",
        "print(\"Accuracy after PSO feature selection:\", accuracy_score(y_test, y_pred))\n"
      ],
      "metadata": {
        "colab": {
          "base_uri": "https://localhost:8080/",
          "height": 383
        },
        "id": "WpoHNl0m0ySV",
        "outputId": "7a0cb491-bc1d-45ed-cfb9-8b6edeabf863"
      },
      "execution_count": 9,
      "outputs": [
        {
          "output_type": "error",
          "ename": "ModuleNotFoundError",
          "evalue": "No module named 'pyswarm'",
          "traceback": [
            "\u001b[0;31m---------------------------------------------------------------------------\u001b[0m",
            "\u001b[0;31mModuleNotFoundError\u001b[0m                       Traceback (most recent call last)",
            "\u001b[0;32m<ipython-input-9-36898d15abc7>\u001b[0m in \u001b[0;36m<cell line: 0>\u001b[0;34m()\u001b[0m\n\u001b[0;32m----> 1\u001b[0;31m \u001b[0;32mfrom\u001b[0m \u001b[0mpyswarm\u001b[0m \u001b[0;32mimport\u001b[0m \u001b[0mpso\u001b[0m\u001b[0;34m\u001b[0m\u001b[0;34m\u001b[0m\u001b[0m\n\u001b[0m\u001b[1;32m      2\u001b[0m \u001b[0;32mimport\u001b[0m \u001b[0mnumpy\u001b[0m \u001b[0;32mas\u001b[0m \u001b[0mnp\u001b[0m\u001b[0;34m\u001b[0m\u001b[0;34m\u001b[0m\u001b[0m\n\u001b[1;32m      3\u001b[0m \u001b[0;34m\u001b[0m\u001b[0m\n\u001b[1;32m      4\u001b[0m \u001b[0;31m# Define a simple fitness function for PSO\u001b[0m\u001b[0;34m\u001b[0m\u001b[0;34m\u001b[0m\u001b[0m\n\u001b[1;32m      5\u001b[0m \u001b[0;32mdef\u001b[0m \u001b[0mfitness_func\u001b[0m\u001b[0;34m(\u001b[0m\u001b[0mselected_features\u001b[0m\u001b[0;34m)\u001b[0m\u001b[0;34m:\u001b[0m\u001b[0;34m\u001b[0m\u001b[0;34m\u001b[0m\u001b[0m\n",
            "\u001b[0;31mModuleNotFoundError\u001b[0m: No module named 'pyswarm'",
            "",
            "\u001b[0;31m---------------------------------------------------------------------------\u001b[0;32m\nNOTE: If your import is failing due to a missing package, you can\nmanually install dependencies using either !pip or !apt.\n\nTo view examples of installing some common dependencies, click the\n\"Open Examples\" button below.\n\u001b[0;31m---------------------------------------------------------------------------\u001b[0m\n"
          ],
          "errorDetails": {
            "actions": [
              {
                "action": "open_url",
                "actionText": "Open Examples",
                "url": "/notebooks/snippets/importing_libraries.ipynb"
              }
            ]
          }
        }
      ]
    }
  ]
}